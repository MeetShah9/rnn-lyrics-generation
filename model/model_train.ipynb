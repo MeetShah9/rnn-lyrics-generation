{
 "cells": [
  {
   "cell_type": "code",
   "execution_count": 1,
   "id": "d80fb6d2",
   "metadata": {
    "execution": {
     "iopub.execute_input": "2024-04-28T18:37:25.491986Z",
     "iopub.status.busy": "2024-04-28T18:37:25.491256Z",
     "iopub.status.idle": "2024-04-28T18:38:17.019280Z",
     "shell.execute_reply": "2024-04-28T18:38:17.018175Z"
    },
    "papermill": {
     "duration": 51.540976,
     "end_time": "2024-04-28T18:38:17.021675",
     "exception": false,
     "start_time": "2024-04-28T18:37:25.480699",
     "status": "completed"
    },
    "tags": []
   },
   "outputs": [
    {
     "name": "stdout",
     "output_type": "stream",
     "text": [
      "Requirement already satisfied: tensorflow in /opt/conda/lib/python3.10/site-packages (2.15.0)\r\n",
      "Requirement already satisfied: absl-py>=1.0.0 in /opt/conda/lib/python3.10/site-packages (from tensorflow) (1.4.0)\r\n",
      "Requirement already satisfied: astunparse>=1.6.0 in /opt/conda/lib/python3.10/site-packages (from tensorflow) (1.6.3)\r\n",
      "Requirement already satisfied: flatbuffers>=23.5.26 in /opt/conda/lib/python3.10/site-packages (from tensorflow) (23.5.26)\r\n",
      "Requirement already satisfied: gast!=0.5.0,!=0.5.1,!=0.5.2,>=0.2.1 in /opt/conda/lib/python3.10/site-packages (from tensorflow) (0.5.4)\r\n",
      "Requirement already satisfied: google-pasta>=0.1.1 in /opt/conda/lib/python3.10/site-packages (from tensorflow) (0.2.0)\r\n",
      "Requirement already satisfied: h5py>=2.9.0 in /opt/conda/lib/python3.10/site-packages (from tensorflow) (3.10.0)\r\n",
      "Requirement already satisfied: libclang>=13.0.0 in /opt/conda/lib/python3.10/site-packages (from tensorflow) (16.0.6)\r\n",
      "Requirement already satisfied: ml-dtypes~=0.2.0 in /opt/conda/lib/python3.10/site-packages (from tensorflow) (0.2.0)\r\n",
      "Requirement already satisfied: numpy<2.0.0,>=1.23.5 in /opt/conda/lib/python3.10/site-packages (from tensorflow) (1.26.4)\r\n",
      "Requirement already satisfied: opt-einsum>=2.3.2 in /opt/conda/lib/python3.10/site-packages (from tensorflow) (3.3.0)\r\n",
      "Requirement already satisfied: packaging in /opt/conda/lib/python3.10/site-packages (from tensorflow) (21.3)\r\n",
      "Requirement already satisfied: protobuf!=4.21.0,!=4.21.1,!=4.21.2,!=4.21.3,!=4.21.4,!=4.21.5,<5.0.0dev,>=3.20.3 in /opt/conda/lib/python3.10/site-packages (from tensorflow) (3.20.3)\r\n",
      "Requirement already satisfied: setuptools in /opt/conda/lib/python3.10/site-packages (from tensorflow) (69.0.3)\r\n",
      "Requirement already satisfied: six>=1.12.0 in /opt/conda/lib/python3.10/site-packages (from tensorflow) (1.16.0)\r\n",
      "Requirement already satisfied: termcolor>=1.1.0 in /opt/conda/lib/python3.10/site-packages (from tensorflow) (2.4.0)\r\n",
      "Requirement already satisfied: typing-extensions>=3.6.6 in /opt/conda/lib/python3.10/site-packages (from tensorflow) (4.9.0)\r\n",
      "Requirement already satisfied: wrapt<1.15,>=1.11.0 in /opt/conda/lib/python3.10/site-packages (from tensorflow) (1.14.1)\r\n",
      "Requirement already satisfied: tensorflow-io-gcs-filesystem>=0.23.1 in /opt/conda/lib/python3.10/site-packages (from tensorflow) (0.35.0)\r\n",
      "Requirement already satisfied: grpcio<2.0,>=1.24.3 in /opt/conda/lib/python3.10/site-packages (from tensorflow) (1.51.1)\r\n",
      "Requirement already satisfied: tensorboard<2.16,>=2.15 in /opt/conda/lib/python3.10/site-packages (from tensorflow) (2.15.1)\r\n",
      "Requirement already satisfied: tensorflow-estimator<2.16,>=2.15.0 in /opt/conda/lib/python3.10/site-packages (from tensorflow) (2.15.0)\r\n",
      "Collecting keras<2.16,>=2.15.0 (from tensorflow)\r\n",
      "  Downloading keras-2.15.0-py3-none-any.whl.metadata (2.4 kB)\r\n",
      "Requirement already satisfied: wheel<1.0,>=0.23.0 in /opt/conda/lib/python3.10/site-packages (from astunparse>=1.6.0->tensorflow) (0.42.0)\r\n",
      "Requirement already satisfied: google-auth<3,>=1.6.3 in /opt/conda/lib/python3.10/site-packages (from tensorboard<2.16,>=2.15->tensorflow) (2.26.1)\r\n",
      "Requirement already satisfied: google-auth-oauthlib<2,>=0.5 in /opt/conda/lib/python3.10/site-packages (from tensorboard<2.16,>=2.15->tensorflow) (1.2.0)\r\n",
      "Requirement already satisfied: markdown>=2.6.8 in /opt/conda/lib/python3.10/site-packages (from tensorboard<2.16,>=2.15->tensorflow) (3.5.2)\r\n",
      "Requirement already satisfied: requests<3,>=2.21.0 in /opt/conda/lib/python3.10/site-packages (from tensorboard<2.16,>=2.15->tensorflow) (2.31.0)\r\n",
      "Requirement already satisfied: tensorboard-data-server<0.8.0,>=0.7.0 in /opt/conda/lib/python3.10/site-packages (from tensorboard<2.16,>=2.15->tensorflow) (0.7.2)\r\n",
      "Requirement already satisfied: werkzeug>=1.0.1 in /opt/conda/lib/python3.10/site-packages (from tensorboard<2.16,>=2.15->tensorflow) (3.0.2)\r\n",
      "Requirement already satisfied: pyparsing!=3.0.5,>=2.0.2 in /opt/conda/lib/python3.10/site-packages (from packaging->tensorflow) (3.1.1)\r\n",
      "Requirement already satisfied: cachetools<6.0,>=2.0.0 in /opt/conda/lib/python3.10/site-packages (from google-auth<3,>=1.6.3->tensorboard<2.16,>=2.15->tensorflow) (4.2.4)\r\n",
      "Requirement already satisfied: pyasn1-modules>=0.2.1 in /opt/conda/lib/python3.10/site-packages (from google-auth<3,>=1.6.3->tensorboard<2.16,>=2.15->tensorflow) (0.3.0)\r\n",
      "Requirement already satisfied: rsa<5,>=3.1.4 in /opt/conda/lib/python3.10/site-packages (from google-auth<3,>=1.6.3->tensorboard<2.16,>=2.15->tensorflow) (4.9)\r\n",
      "Requirement already satisfied: requests-oauthlib>=0.7.0 in /opt/conda/lib/python3.10/site-packages (from google-auth-oauthlib<2,>=0.5->tensorboard<2.16,>=2.15->tensorflow) (1.3.1)\r\n",
      "Requirement already satisfied: charset-normalizer<4,>=2 in /opt/conda/lib/python3.10/site-packages (from requests<3,>=2.21.0->tensorboard<2.16,>=2.15->tensorflow) (3.3.2)\r\n",
      "Requirement already satisfied: idna<4,>=2.5 in /opt/conda/lib/python3.10/site-packages (from requests<3,>=2.21.0->tensorboard<2.16,>=2.15->tensorflow) (3.6)\r\n",
      "Requirement already satisfied: urllib3<3,>=1.21.1 in /opt/conda/lib/python3.10/site-packages (from requests<3,>=2.21.0->tensorboard<2.16,>=2.15->tensorflow) (1.26.18)\r\n",
      "Requirement already satisfied: certifi>=2017.4.17 in /opt/conda/lib/python3.10/site-packages (from requests<3,>=2.21.0->tensorboard<2.16,>=2.15->tensorflow) (2024.2.2)\r\n",
      "Requirement already satisfied: MarkupSafe>=2.1.1 in /opt/conda/lib/python3.10/site-packages (from werkzeug>=1.0.1->tensorboard<2.16,>=2.15->tensorflow) (2.1.3)\r\n",
      "Requirement already satisfied: pyasn1<0.6.0,>=0.4.6 in /opt/conda/lib/python3.10/site-packages (from pyasn1-modules>=0.2.1->google-auth<3,>=1.6.3->tensorboard<2.16,>=2.15->tensorflow) (0.5.1)\r\n",
      "Requirement already satisfied: oauthlib>=3.0.0 in /opt/conda/lib/python3.10/site-packages (from requests-oauthlib>=0.7.0->google-auth-oauthlib<2,>=0.5->tensorboard<2.16,>=2.15->tensorflow) (3.2.2)\r\n",
      "Downloading keras-2.15.0-py3-none-any.whl (1.7 MB)\r\n",
      "\u001b[2K   \u001b[90m━━━━━━━━━━━━━━━━━━━━━━━━━━━━━━━━━━━━━━━━\u001b[0m \u001b[32m1.7/1.7 MB\u001b[0m \u001b[31m8.1 MB/s\u001b[0m eta \u001b[36m0:00:00\u001b[0m\r\n",
      "\u001b[?25hInstalling collected packages: keras\r\n",
      "  Attempting uninstall: keras\r\n",
      "    Found existing installation: keras 3.2.1\r\n",
      "    Uninstalling keras-3.2.1:\r\n",
      "      Successfully uninstalled keras-3.2.1\r\n",
      "\u001b[31mERROR: pip's dependency resolver does not currently take into account all the packages that are installed. This behaviour is the source of the following dependency conflicts.\r\n",
      "tensorflow-decision-forests 1.8.1 requires wurlitzer, which is not installed.\u001b[0m\u001b[31m\r\n",
      "\u001b[0mSuccessfully installed keras-2.15.0\r\n",
      "Requirement already satisfied: numpy in /opt/conda/lib/python3.10/site-packages (1.26.4)\r\n",
      "Requirement already satisfied: pandas in /opt/conda/lib/python3.10/site-packages (2.1.4)\r\n",
      "Requirement already satisfied: numpy<2,>=1.22.4 in /opt/conda/lib/python3.10/site-packages (from pandas) (1.26.4)\r\n",
      "Requirement already satisfied: python-dateutil>=2.8.2 in /opt/conda/lib/python3.10/site-packages (from pandas) (2.9.0.post0)\r\n",
      "Requirement already satisfied: pytz>=2020.1 in /opt/conda/lib/python3.10/site-packages (from pandas) (2023.3.post1)\r\n",
      "Requirement already satisfied: tzdata>=2022.1 in /opt/conda/lib/python3.10/site-packages (from pandas) (2023.4)\r\n",
      "Requirement already satisfied: six>=1.5 in /opt/conda/lib/python3.10/site-packages (from python-dateutil>=2.8.2->pandas) (1.16.0)\r\n",
      "Requirement already satisfied: nltk in /opt/conda/lib/python3.10/site-packages (3.2.4)\r\n",
      "Requirement already satisfied: six in /opt/conda/lib/python3.10/site-packages (from nltk) (1.16.0)\r\n"
     ]
    }
   ],
   "source": [
    "!pip install tensorflow\n",
    "!pip install numpy\n",
    "!pip install pandas\n",
    "!pip install nltk\n"
   ]
  },
  {
   "cell_type": "code",
   "execution_count": 2,
   "id": "7d376e9f",
   "metadata": {
    "_cell_guid": "e7d94121-24e0-483b-b354-d6db8002a02e",
    "_uuid": "73999f65-b552-4340-8673-c7c4ba0f0c4c",
    "collapsed": false,
    "execution": {
     "iopub.execute_input": "2024-04-28T18:38:17.041796Z",
     "iopub.status.busy": "2024-04-28T18:38:17.041490Z",
     "iopub.status.idle": "2024-04-28T18:38:30.127308Z",
     "shell.execute_reply": "2024-04-28T18:38:30.126434Z"
    },
    "jupyter": {
     "outputs_hidden": false
    },
    "papermill": {
     "duration": 13.09845,
     "end_time": "2024-04-28T18:38:30.129679",
     "exception": false,
     "start_time": "2024-04-28T18:38:17.031229",
     "status": "completed"
    },
    "tags": []
   },
   "outputs": [
    {
     "name": "stderr",
     "output_type": "stream",
     "text": [
      "2024-04-28 18:38:21.098105: E external/local_xla/xla/stream_executor/cuda/cuda_dnn.cc:9261] Unable to register cuDNN factory: Attempting to register factory for plugin cuDNN when one has already been registered\n",
      "2024-04-28 18:38:21.098259: E external/local_xla/xla/stream_executor/cuda/cuda_fft.cc:607] Unable to register cuFFT factory: Attempting to register factory for plugin cuFFT when one has already been registered\n",
      "2024-04-28 18:38:21.221533: E external/local_xla/xla/stream_executor/cuda/cuda_blas.cc:1515] Unable to register cuBLAS factory: Attempting to register factory for plugin cuBLAS when one has already been registered\n"
     ]
    }
   ],
   "source": [
    "import pandas as pd\n",
    "import numpy as np\n",
    "import seaborn as sns\n",
    "import matplotlib.pyplot as plt\n",
    "import string, os\n",
    "import nltk\n",
    "import re\n",
    "import random\n",
    "import io\n",
    "import tensorflow as tf\n",
    "from tensorflow.keras.models import Sequential\n",
    "from tensorflow.keras.optimizers import Adamax\n",
    "from tensorflow.keras.preprocessing.sequence import pad_sequences\n",
    "from tensorflow.keras.preprocessing.text import Tokenizer\n",
    "from tensorflow.keras.layers import Embedding, Dropout, LSTM, Dense, Bidirectional \n",
    "from tensorflow.keras.callbacks import EarlyStopping"
   ]
  },
  {
   "cell_type": "code",
   "execution_count": null,
   "id": "ade92bbf",
   "metadata": {
    "papermill": {
     "duration": 0.008803,
     "end_time": "2024-04-28T18:38:30.147919",
     "exception": false,
     "start_time": "2024-04-28T18:38:30.139116",
     "status": "completed"
    },
    "tags": []
   },
   "outputs": [],
   "source": []
  },
  {
   "cell_type": "code",
   "execution_count": 3,
   "id": "f50256ab",
   "metadata": {
    "_cell_guid": "d0f1a680-14e2-4818-99c2-6568261d5922",
    "_uuid": "a87407ce-0055-4b5a-a0ca-9d86cdb462bf",
    "collapsed": false,
    "execution": {
     "iopub.execute_input": "2024-04-28T18:38:30.167627Z",
     "iopub.status.busy": "2024-04-28T18:38:30.166589Z",
     "iopub.status.idle": "2024-04-28T18:38:30.203691Z",
     "shell.execute_reply": "2024-04-28T18:38:30.202705Z"
    },
    "jupyter": {
     "outputs_hidden": false
    },
    "papermill": {
     "duration": 0.049158,
     "end_time": "2024-04-28T18:38:30.205807",
     "exception": false,
     "start_time": "2024-04-28T18:38:30.156649",
     "status": "completed"
    },
    "tags": []
   },
   "outputs": [],
   "source": [
    "data = pd.read_csv(\"/kaggle/input/dataset/final_final_data.csv\")"
   ]
  },
  {
   "cell_type": "code",
   "execution_count": 4,
   "id": "8ed8f68a",
   "metadata": {
    "_cell_guid": "e9932cce-24a6-42e7-b417-0121fcda2f50",
    "_uuid": "d374a6ac-6ac4-4ef4-9f55-832f759f2f84",
    "collapsed": false,
    "execution": {
     "iopub.execute_input": "2024-04-28T18:38:30.225109Z",
     "iopub.status.busy": "2024-04-28T18:38:30.224576Z",
     "iopub.status.idle": "2024-04-28T18:38:30.246006Z",
     "shell.execute_reply": "2024-04-28T18:38:30.245159Z"
    },
    "jupyter": {
     "outputs_hidden": false
    },
    "papermill": {
     "duration": 0.033471,
     "end_time": "2024-04-28T18:38:30.248208",
     "exception": false,
     "start_time": "2024-04-28T18:38:30.214737",
     "status": "completed"
    },
    "tags": []
   },
   "outputs": [
    {
     "data": {
      "text/html": [
       "<div>\n",
       "<style scoped>\n",
       "    .dataframe tbody tr th:only-of-type {\n",
       "        vertical-align: middle;\n",
       "    }\n",
       "\n",
       "    .dataframe tbody tr th {\n",
       "        vertical-align: top;\n",
       "    }\n",
       "\n",
       "    .dataframe thead th {\n",
       "        text-align: right;\n",
       "    }\n",
       "</style>\n",
       "<table border=\"1\" class=\"dataframe\">\n",
       "  <thead>\n",
       "    <tr style=\"text-align: right;\">\n",
       "      <th></th>\n",
       "      <th>Track Name</th>\n",
       "      <th>Album Name</th>\n",
       "      <th>Lyrics</th>\n",
       "      <th>No_of_Characters</th>\n",
       "      <th>No_of_Words</th>\n",
       "    </tr>\n",
       "  </thead>\n",
       "  <tbody>\n",
       "    <tr>\n",
       "      <th>0</th>\n",
       "      <td>Beaches by Lana Del Rey</td>\n",
       "      <td>Lust for Life by Lana Del Rey</td>\n",
       "      <td>i don't belong in the world, that's what it is...</td>\n",
       "      <td>1281</td>\n",
       "      <td>302</td>\n",
       "    </tr>\n",
       "    <tr>\n",
       "      <th>1</th>\n",
       "      <td>Liner Notes by Taylor Swift</td>\n",
       "      <td>by Taylor Swift</td>\n",
       "      <td>i was born in reading, pennsylvania on decembe...</td>\n",
       "      <td>3798</td>\n",
       "      <td>817</td>\n",
       "    </tr>\n",
       "    <tr>\n",
       "      <th>2</th>\n",
       "      <td>by Lana Del Rey</td>\n",
       "      <td>Honeymoon by Lana Del Rey</td>\n",
       "      <td>there's only  hours in a day and half as many ...</td>\n",
       "      <td>999</td>\n",
       "      <td>219</td>\n",
       "    </tr>\n",
       "    <tr>\n",
       "      <th>3</th>\n",
       "      <td>by Taylor Swift</td>\n",
       "      <td>Red by Taylor Swift</td>\n",
       "      <td>it feels like a perfect night to dress up like...</td>\n",
       "      <td>2187</td>\n",
       "      <td>464</td>\n",
       "    </tr>\n",
       "    <tr>\n",
       "      <th>4</th>\n",
       "      <td>\"Heroes\" by David Bowie</td>\n",
       "      <td>\"Heroes\" by David Bowie</td>\n",
       "      <td>i, i will be king and you, you will be queen  ...</td>\n",
       "      <td>1297</td>\n",
       "      <td>305</td>\n",
       "    </tr>\n",
       "    <tr>\n",
       "      <th>...</th>\n",
       "      <td>...</td>\n",
       "      <td>...</td>\n",
       "      <td>...</td>\n",
       "      <td>...</td>\n",
       "      <td>...</td>\n",
       "    </tr>\n",
       "    <tr>\n",
       "      <th>786</th>\n",
       "      <td>Old days, glory days</td>\n",
       "      <td>NaN</td>\n",
       "      <td>lyrics for this song have yet to be released p...</td>\n",
       "      <td>94</td>\n",
       "      <td>18</td>\n",
       "    </tr>\n",
       "    <tr>\n",
       "      <th>787</th>\n",
       "      <td>Olivia by One Direction</td>\n",
       "      <td>Made in the A.M. by One Direction</td>\n",
       "      <td>fortythree and then and then you've gotta play...</td>\n",
       "      <td>1656</td>\n",
       "      <td>417</td>\n",
       "    </tr>\n",
       "    <tr>\n",
       "      <th>788</th>\n",
       "      <td>Omaha Mall</td>\n",
       "      <td>NaN</td>\n",
       "      <td>kenny hamilton tell them how it is okay we bet...</td>\n",
       "      <td>2041</td>\n",
       "      <td>439</td>\n",
       "    </tr>\n",
       "    <tr>\n",
       "      <th>789</th>\n",
       "      <td>Orange Colored Sky Live</td>\n",
       "      <td>A Very Gaga Holiday</td>\n",
       "      <td>solet's do orange colored sky yeah i used to s...</td>\n",
       "      <td>1053</td>\n",
       "      <td>213</td>\n",
       "    </tr>\n",
       "    <tr>\n",
       "      <th>790</th>\n",
       "      <td>Orlando speech</td>\n",
       "      <td>NaN</td>\n",
       "      <td>i kw that you all have been feeling a tremendo...</td>\n",
       "      <td>1487</td>\n",
       "      <td>274</td>\n",
       "    </tr>\n",
       "  </tbody>\n",
       "</table>\n",
       "<p>791 rows × 5 columns</p>\n",
       "</div>"
      ],
      "text/plain": [
       "                       Track Name                         Album Name  \\\n",
       "0         Beaches by Lana Del Rey      Lust for Life by Lana Del Rey   \n",
       "1     Liner Notes by Taylor Swift                    by Taylor Swift   \n",
       "2                 by Lana Del Rey          Honeymoon by Lana Del Rey   \n",
       "3                 by Taylor Swift                Red by Taylor Swift   \n",
       "4         \"Heroes\" by David Bowie            \"Heroes\" by David Bowie   \n",
       "..                            ...                                ...   \n",
       "786          Old days, glory days                                NaN   \n",
       "787       Olivia by One Direction  Made in the A.M. by One Direction   \n",
       "788                    Omaha Mall                                NaN   \n",
       "789       Orange Colored Sky Live                A Very Gaga Holiday   \n",
       "790                Orlando speech                                NaN   \n",
       "\n",
       "                                                Lyrics  No_of_Characters  \\\n",
       "0    i don't belong in the world, that's what it is...              1281   \n",
       "1    i was born in reading, pennsylvania on decembe...              3798   \n",
       "2    there's only  hours in a day and half as many ...               999   \n",
       "3    it feels like a perfect night to dress up like...              2187   \n",
       "4    i, i will be king and you, you will be queen  ...              1297   \n",
       "..                                                 ...               ...   \n",
       "786  lyrics for this song have yet to be released p...                94   \n",
       "787  fortythree and then and then you've gotta play...              1656   \n",
       "788  kenny hamilton tell them how it is okay we bet...              2041   \n",
       "789  solet's do orange colored sky yeah i used to s...              1053   \n",
       "790  i kw that you all have been feeling a tremendo...              1487   \n",
       "\n",
       "     No_of_Words  \n",
       "0            302  \n",
       "1            817  \n",
       "2            219  \n",
       "3            464  \n",
       "4            305  \n",
       "..           ...  \n",
       "786           18  \n",
       "787          417  \n",
       "788          439  \n",
       "789          213  \n",
       "790          274  \n",
       "\n",
       "[791 rows x 5 columns]"
      ]
     },
     "execution_count": 4,
     "metadata": {},
     "output_type": "execute_result"
    }
   ],
   "source": [
    "data"
   ]
  },
  {
   "cell_type": "code",
   "execution_count": 5,
   "id": "453d9273",
   "metadata": {
    "_cell_guid": "68378f4a-866b-490b-937a-bb3da1eecf4e",
    "_uuid": "70d49d29-a41c-41a5-8250-6f0f19b47d8d",
    "collapsed": false,
    "execution": {
     "iopub.execute_input": "2024-04-28T18:38:30.267555Z",
     "iopub.status.busy": "2024-04-28T18:38:30.267304Z",
     "iopub.status.idle": "2024-04-28T18:38:30.275453Z",
     "shell.execute_reply": "2024-04-28T18:38:30.274600Z"
    },
    "jupyter": {
     "outputs_hidden": false
    },
    "papermill": {
     "duration": 0.020026,
     "end_time": "2024-04-28T18:38:30.277430",
     "exception": false,
     "start_time": "2024-04-28T18:38:30.257404",
     "status": "completed"
    },
    "tags": []
   },
   "outputs": [
    {
     "data": {
      "text/plain": [
       "Track Name           0\n",
       "Album Name          29\n",
       "Lyrics               0\n",
       "No_of_Characters     0\n",
       "No_of_Words          0\n",
       "dtype: int64"
      ]
     },
     "execution_count": 5,
     "metadata": {},
     "output_type": "execute_result"
    }
   ],
   "source": [
    "data.isna().sum()"
   ]
  },
  {
   "cell_type": "code",
   "execution_count": 6,
   "id": "37660fb0",
   "metadata": {
    "_cell_guid": "aa5336f8-9830-48ac-8e8c-1d6dba28ed37",
    "_uuid": "d4580791-5b77-4ed6-a7f2-d8ba662e9a21",
    "collapsed": false,
    "execution": {
     "iopub.execute_input": "2024-04-28T18:38:30.297967Z",
     "iopub.status.busy": "2024-04-28T18:38:30.297698Z",
     "iopub.status.idle": "2024-04-28T18:38:30.302526Z",
     "shell.execute_reply": "2024-04-28T18:38:30.301788Z"
    },
    "jupyter": {
     "outputs_hidden": false
    },
    "papermill": {
     "duration": 0.017603,
     "end_time": "2024-04-28T18:38:30.304391",
     "exception": false,
     "start_time": "2024-04-28T18:38:30.286788",
     "status": "completed"
    },
    "tags": []
   },
   "outputs": [],
   "source": [
    "data['Lyrics'] = data['Lyrics'].astype(str)"
   ]
  },
  {
   "cell_type": "code",
   "execution_count": 7,
   "id": "abd951c7",
   "metadata": {
    "_cell_guid": "0489df68-2c94-4933-8848-d988657d3302",
    "_uuid": "ea94e659-da22-426b-a4c5-d73220525991",
    "collapsed": false,
    "execution": {
     "iopub.execute_input": "2024-04-28T18:38:30.323768Z",
     "iopub.status.busy": "2024-04-28T18:38:30.323510Z",
     "iopub.status.idle": "2024-04-28T18:38:30.327367Z",
     "shell.execute_reply": "2024-04-28T18:38:30.326583Z"
    },
    "jupyter": {
     "outputs_hidden": false
    },
    "papermill": {
     "duration": 0.015675,
     "end_time": "2024-04-28T18:38:30.329203",
     "exception": false,
     "start_time": "2024-04-28T18:38:30.313528",
     "status": "completed"
    },
    "tags": []
   },
   "outputs": [],
   "source": [
    "non_alphabetic_pattern = re.compile(r'[^a-zA-Z\\s]')"
   ]
  },
  {
   "cell_type": "code",
   "execution_count": 8,
   "id": "d395315f",
   "metadata": {
    "_cell_guid": "a63c94d8-080a-49e4-bbae-36795a373994",
    "_uuid": "bb357ce5-6941-4287-ac7f-ea6e47383281",
    "collapsed": false,
    "execution": {
     "iopub.execute_input": "2024-04-28T18:38:30.349407Z",
     "iopub.status.busy": "2024-04-28T18:38:30.349124Z",
     "iopub.status.idle": "2024-04-28T18:38:30.396456Z",
     "shell.execute_reply": "2024-04-28T18:38:30.395459Z"
    },
    "jupyter": {
     "outputs_hidden": false
    },
    "papermill": {
     "duration": 0.059426,
     "end_time": "2024-04-28T18:38:30.398431",
     "exception": false,
     "start_time": "2024-04-28T18:38:30.339005",
     "status": "completed"
    },
    "tags": []
   },
   "outputs": [
    {
     "name": "stdout",
     "output_type": "stream",
     "text": [
      "0      i don t belong in the world  that s what it is...\n",
      "1      i was born in reading  pennsylvania on decembe...\n",
      "2      there s only  hours in a day and half as many ...\n",
      "3      it feels like a perfect night to dress up like...\n",
      "4      i  i will be king and you  you will be queen  ...\n",
      "                             ...                        \n",
      "786    lyrics for this song have yet to be released p...\n",
      "787    fortythree and then and then you ve gotta play...\n",
      "788    kenny hamilton tell them how it is okay we bet...\n",
      "789    solet s do orange colored sky yeah i used to s...\n",
      "790    i kw that you all have been feeling a tremendo...\n",
      "Name: Lyrics, Length: 791, dtype: object\n"
     ]
    }
   ],
   "source": [
    "# Replace non-alphabetic characters with blank spaces in the 'Lyrics' column\n",
    "data['Lyrics'] = data['Lyrics'].str.replace(non_alphabetic_pattern, ' ', regex=True)\n",
    "\n",
    "# Example: Printing the updated DataFrame\n",
    "print(data['Lyrics'])"
   ]
  },
  {
   "cell_type": "code",
   "execution_count": 9,
   "id": "835ff4f5",
   "metadata": {
    "_cell_guid": "27ba7b81-98f5-468c-97bc-faddb5bfb68b",
    "_uuid": "7c5f377a-be87-472f-80e2-730aac5b0abc",
    "collapsed": false,
    "execution": {
     "iopub.execute_input": "2024-04-28T18:38:30.418271Z",
     "iopub.status.busy": "2024-04-28T18:38:30.417989Z",
     "iopub.status.idle": "2024-04-28T18:38:30.430873Z",
     "shell.execute_reply": "2024-04-28T18:38:30.430090Z"
    },
    "jupyter": {
     "outputs_hidden": false
    },
    "papermill": {
     "duration": 0.024833,
     "end_time": "2024-04-28T18:38:30.432769",
     "exception": false,
     "start_time": "2024-04-28T18:38:30.407936",
     "status": "completed"
    },
    "tags": []
   },
   "outputs": [
    {
     "data": {
      "text/html": [
       "<div>\n",
       "<style scoped>\n",
       "    .dataframe tbody tr th:only-of-type {\n",
       "        vertical-align: middle;\n",
       "    }\n",
       "\n",
       "    .dataframe tbody tr th {\n",
       "        vertical-align: top;\n",
       "    }\n",
       "\n",
       "    .dataframe thead th {\n",
       "        text-align: right;\n",
       "    }\n",
       "</style>\n",
       "<table border=\"1\" class=\"dataframe\">\n",
       "  <thead>\n",
       "    <tr style=\"text-align: right;\">\n",
       "      <th></th>\n",
       "      <th>Track Name</th>\n",
       "      <th>Album Name</th>\n",
       "      <th>Lyrics</th>\n",
       "      <th>No_of_Characters</th>\n",
       "      <th>No_of_Words</th>\n",
       "    </tr>\n",
       "  </thead>\n",
       "  <tbody>\n",
       "    <tr>\n",
       "      <th>0</th>\n",
       "      <td>Beaches by Lana Del Rey</td>\n",
       "      <td>Lust for Life by Lana Del Rey</td>\n",
       "      <td>i don t belong in the world  that s what it is...</td>\n",
       "      <td>1281</td>\n",
       "      <td>302</td>\n",
       "    </tr>\n",
       "    <tr>\n",
       "      <th>1</th>\n",
       "      <td>Liner Notes by Taylor Swift</td>\n",
       "      <td>by Taylor Swift</td>\n",
       "      <td>i was born in reading  pennsylvania on decembe...</td>\n",
       "      <td>3798</td>\n",
       "      <td>817</td>\n",
       "    </tr>\n",
       "    <tr>\n",
       "      <th>2</th>\n",
       "      <td>by Lana Del Rey</td>\n",
       "      <td>Honeymoon by Lana Del Rey</td>\n",
       "      <td>there s only  hours in a day and half as many ...</td>\n",
       "      <td>999</td>\n",
       "      <td>219</td>\n",
       "    </tr>\n",
       "    <tr>\n",
       "      <th>3</th>\n",
       "      <td>by Taylor Swift</td>\n",
       "      <td>Red by Taylor Swift</td>\n",
       "      <td>it feels like a perfect night to dress up like...</td>\n",
       "      <td>2187</td>\n",
       "      <td>464</td>\n",
       "    </tr>\n",
       "    <tr>\n",
       "      <th>4</th>\n",
       "      <td>\"Heroes\" by David Bowie</td>\n",
       "      <td>\"Heroes\" by David Bowie</td>\n",
       "      <td>i  i will be king and you  you will be queen  ...</td>\n",
       "      <td>1297</td>\n",
       "      <td>305</td>\n",
       "    </tr>\n",
       "    <tr>\n",
       "      <th>...</th>\n",
       "      <td>...</td>\n",
       "      <td>...</td>\n",
       "      <td>...</td>\n",
       "      <td>...</td>\n",
       "      <td>...</td>\n",
       "    </tr>\n",
       "    <tr>\n",
       "      <th>786</th>\n",
       "      <td>Old days, glory days</td>\n",
       "      <td>NaN</td>\n",
       "      <td>lyrics for this song have yet to be released p...</td>\n",
       "      <td>94</td>\n",
       "      <td>18</td>\n",
       "    </tr>\n",
       "    <tr>\n",
       "      <th>787</th>\n",
       "      <td>Olivia by One Direction</td>\n",
       "      <td>Made in the A.M. by One Direction</td>\n",
       "      <td>fortythree and then and then you ve gotta play...</td>\n",
       "      <td>1656</td>\n",
       "      <td>417</td>\n",
       "    </tr>\n",
       "    <tr>\n",
       "      <th>788</th>\n",
       "      <td>Omaha Mall</td>\n",
       "      <td>NaN</td>\n",
       "      <td>kenny hamilton tell them how it is okay we bet...</td>\n",
       "      <td>2041</td>\n",
       "      <td>439</td>\n",
       "    </tr>\n",
       "    <tr>\n",
       "      <th>789</th>\n",
       "      <td>Orange Colored Sky Live</td>\n",
       "      <td>A Very Gaga Holiday</td>\n",
       "      <td>solet s do orange colored sky yeah i used to s...</td>\n",
       "      <td>1053</td>\n",
       "      <td>213</td>\n",
       "    </tr>\n",
       "    <tr>\n",
       "      <th>790</th>\n",
       "      <td>Orlando speech</td>\n",
       "      <td>NaN</td>\n",
       "      <td>i kw that you all have been feeling a tremendo...</td>\n",
       "      <td>1487</td>\n",
       "      <td>274</td>\n",
       "    </tr>\n",
       "  </tbody>\n",
       "</table>\n",
       "<p>791 rows × 5 columns</p>\n",
       "</div>"
      ],
      "text/plain": [
       "                       Track Name                         Album Name  \\\n",
       "0         Beaches by Lana Del Rey      Lust for Life by Lana Del Rey   \n",
       "1     Liner Notes by Taylor Swift                    by Taylor Swift   \n",
       "2                 by Lana Del Rey          Honeymoon by Lana Del Rey   \n",
       "3                 by Taylor Swift                Red by Taylor Swift   \n",
       "4         \"Heroes\" by David Bowie            \"Heroes\" by David Bowie   \n",
       "..                            ...                                ...   \n",
       "786          Old days, glory days                                NaN   \n",
       "787       Olivia by One Direction  Made in the A.M. by One Direction   \n",
       "788                    Omaha Mall                                NaN   \n",
       "789       Orange Colored Sky Live                A Very Gaga Holiday   \n",
       "790                Orlando speech                                NaN   \n",
       "\n",
       "                                                Lyrics  No_of_Characters  \\\n",
       "0    i don t belong in the world  that s what it is...              1281   \n",
       "1    i was born in reading  pennsylvania on decembe...              3798   \n",
       "2    there s only  hours in a day and half as many ...               999   \n",
       "3    it feels like a perfect night to dress up like...              2187   \n",
       "4    i  i will be king and you  you will be queen  ...              1297   \n",
       "..                                                 ...               ...   \n",
       "786  lyrics for this song have yet to be released p...                94   \n",
       "787  fortythree and then and then you ve gotta play...              1656   \n",
       "788  kenny hamilton tell them how it is okay we bet...              2041   \n",
       "789  solet s do orange colored sky yeah i used to s...              1053   \n",
       "790  i kw that you all have been feeling a tremendo...              1487   \n",
       "\n",
       "     No_of_Words  \n",
       "0            302  \n",
       "1            817  \n",
       "2            219  \n",
       "3            464  \n",
       "4            305  \n",
       "..           ...  \n",
       "786           18  \n",
       "787          417  \n",
       "788          439  \n",
       "789          213  \n",
       "790          274  \n",
       "\n",
       "[791 rows x 5 columns]"
      ]
     },
     "execution_count": 9,
     "metadata": {},
     "output_type": "execute_result"
    }
   ],
   "source": [
    "data"
   ]
  },
  {
   "cell_type": "code",
   "execution_count": 10,
   "id": "78b35c0e",
   "metadata": {
    "_cell_guid": "7631066d-4515-408e-acd0-ea1c3e8f94f4",
    "_uuid": "67bf94c8-d697-40c7-9547-cdb290a43a49",
    "collapsed": false,
    "execution": {
     "iopub.execute_input": "2024-04-28T18:38:30.453126Z",
     "iopub.status.busy": "2024-04-28T18:38:30.452868Z",
     "iopub.status.idle": "2024-04-28T18:38:30.763861Z",
     "shell.execute_reply": "2024-04-28T18:38:30.762666Z"
    },
    "jupyter": {
     "outputs_hidden": false
    },
    "papermill": {
     "duration": 0.32427,
     "end_time": "2024-04-28T18:38:30.766789",
     "exception": false,
     "start_time": "2024-04-28T18:38:30.442519",
     "status": "completed"
    },
    "tags": []
   },
   "outputs": [],
   "source": [
    "tokenizer = Tokenizer()\n",
    "tokenizer.fit_on_texts(data['Lyrics'].str.lower())\n",
    "\n",
    "total_words = len(tokenizer.word_index)+1\n",
    "tokenized_sentences = tokenizer.texts_to_sequences(data['Lyrics'])"
   ]
  },
  {
   "cell_type": "code",
   "execution_count": 11,
   "id": "31e4e324",
   "metadata": {
    "_cell_guid": "376e340a-b552-4112-805d-afef64a8be95",
    "_uuid": "0774a327-e17f-4949-9227-42d51d087f5c",
    "collapsed": false,
    "execution": {
     "iopub.execute_input": "2024-04-28T18:38:30.790905Z",
     "iopub.status.busy": "2024-04-28T18:38:30.790308Z",
     "iopub.status.idle": "2024-04-28T18:38:36.281852Z",
     "shell.execute_reply": "2024-04-28T18:38:36.280927Z"
    },
    "jupyter": {
     "outputs_hidden": false
    },
    "papermill": {
     "duration": 5.504729,
     "end_time": "2024-04-28T18:38:36.284120",
     "exception": false,
     "start_time": "2024-04-28T18:38:30.779391",
     "status": "completed"
    },
    "tags": []
   },
   "outputs": [],
   "source": [
    "# Slash sequences into n gram sequence\n",
    "input_sequences = list()\n",
    "for i in tokenized_sentences:\n",
    "    for t in range(1, len(i)):\n",
    "        n_gram_sequence = i[:t+1]\n",
    "        input_sequences.append(n_gram_sequence)\n",
    "        \n",
    "# Pre padding\n",
    "max_sequence_len = max([len(x) for x in input_sequences])\n",
    "input_sequences = np.array(pad_sequences(input_sequences, maxlen=max_sequence_len, padding='pre'))"
   ]
  },
  {
   "cell_type": "code",
   "execution_count": 12,
   "id": "0c39af94",
   "metadata": {
    "_cell_guid": "7bff290b-e830-4900-bd05-9119587ef982",
    "_uuid": "a25b53ac-8ba6-44d1-87dd-859f3a8e23e4",
    "collapsed": false,
    "execution": {
     "iopub.execute_input": "2024-04-28T18:38:36.305209Z",
     "iopub.status.busy": "2024-04-28T18:38:36.304898Z",
     "iopub.status.idle": "2024-04-28T18:38:36.832596Z",
     "shell.execute_reply": "2024-04-28T18:38:36.831597Z"
    },
    "jupyter": {
     "outputs_hidden": false
    },
    "papermill": {
     "duration": 0.540929,
     "end_time": "2024-04-28T18:38:36.835170",
     "exception": false,
     "start_time": "2024-04-28T18:38:36.294241",
     "status": "completed"
    },
    "tags": []
   },
   "outputs": [],
   "source": [
    "X, labels = input_sequences[:,:-1],input_sequences[:,-1]\n",
    "y = tf.keras.utils.to_categorical(labels, num_classes=total_words)"
   ]
  },
  {
   "cell_type": "code",
   "execution_count": 13,
   "id": "f5b647dc",
   "metadata": {
    "_cell_guid": "969ad70a-e04b-43d1-842b-4bfe22b212f6",
    "_uuid": "8fa012f6-bd94-42a6-ba95-57646a46bba5",
    "collapsed": false,
    "execution": {
     "iopub.execute_input": "2024-04-28T18:38:36.858206Z",
     "iopub.status.busy": "2024-04-28T18:38:36.857865Z",
     "iopub.status.idle": "2024-04-28T18:38:38.608945Z",
     "shell.execute_reply": "2024-04-28T18:38:38.608193Z"
    },
    "jupyter": {
     "outputs_hidden": false
    },
    "papermill": {
     "duration": 1.764489,
     "end_time": "2024-04-28T18:38:38.611436",
     "exception": false,
     "start_time": "2024-04-28T18:38:36.846947",
     "status": "completed"
    },
    "tags": []
   },
   "outputs": [],
   "source": [
    "model = Sequential()\n",
    "model.add(Embedding(total_words, 40))\n",
    "model.add(Bidirectional(LSTM(250)))\n",
    "model.add(Dropout(0.1))\n",
    "model.add(Dense(total_words, activation='softmax'))\n",
    "model.compile(loss='categorical_crossentropy', optimizer='adam', metrics=['accuracy'])\n",
    "earlystop = EarlyStopping(monitor='loss', min_delta=0, patience=3, verbose=0, mode='auto')"
   ]
  },
  {
   "cell_type": "code",
   "execution_count": 14,
   "id": "248c07a5",
   "metadata": {
    "_cell_guid": "c3beb0ad-2ff7-49c2-87fc-94a0b14e7f42",
    "_uuid": "cce2ac73-578f-4450-9ab3-8714719f618c",
    "collapsed": false,
    "execution": {
     "iopub.execute_input": "2024-04-28T18:38:38.632853Z",
     "iopub.status.busy": "2024-04-28T18:38:38.632339Z",
     "iopub.status.idle": "2024-04-28T18:38:38.652957Z",
     "shell.execute_reply": "2024-04-28T18:38:38.652168Z"
    },
    "jupyter": {
     "outputs_hidden": false
    },
    "papermill": {
     "duration": 0.037023,
     "end_time": "2024-04-28T18:38:38.658523",
     "exception": false,
     "start_time": "2024-04-28T18:38:38.621500",
     "status": "completed"
    },
    "tags": []
   },
   "outputs": [
    {
     "name": "stdout",
     "output_type": "stream",
     "text": [
      "Model: \"sequential\"\n",
      "_________________________________________________________________\n",
      " Layer (type)                Output Shape              Param #   \n",
      "=================================================================\n",
      " embedding (Embedding)       (None, None, 40)          332080    \n",
      "                                                                 \n",
      " bidirectional (Bidirection  (None, 500)               582000    \n",
      " al)                                                             \n",
      "                                                                 \n",
      " dropout (Dropout)           (None, 500)               0         \n",
      "                                                                 \n",
      " dense (Dense)               (None, 8302)              4159302   \n",
      "                                                                 \n",
      "=================================================================\n",
      "Total params: 5073382 (19.35 MB)\n",
      "Trainable params: 5073382 (19.35 MB)\n",
      "Non-trainable params: 0 (0.00 Byte)\n",
      "_________________________________________________________________\n"
     ]
    }
   ],
   "source": [
    "model.summary()"
   ]
  },
  {
   "cell_type": "code",
   "execution_count": 15,
   "id": "95001b67",
   "metadata": {
    "_cell_guid": "3b5a2dcf-6bdf-47e4-87cb-1757a10d75a9",
    "_uuid": "50e0bfec-c201-41e2-be9e-0d567e645c7a",
    "collapsed": false,
    "execution": {
     "iopub.execute_input": "2024-04-28T18:38:38.681544Z",
     "iopub.status.busy": "2024-04-28T18:38:38.681275Z",
     "iopub.status.idle": "2024-04-28T22:23:23.290902Z",
     "shell.execute_reply": "2024-04-28T22:23:23.289937Z"
    },
    "jupyter": {
     "outputs_hidden": false
    },
    "papermill": {
     "duration": 13484.62358,
     "end_time": "2024-04-28T22:23:23.293129",
     "exception": false,
     "start_time": "2024-04-28T18:38:38.669549",
     "status": "completed"
    },
    "tags": []
   },
   "outputs": [
    {
     "name": "stdout",
     "output_type": "stream",
     "text": [
      "Epoch 1/20\n"
     ]
    },
    {
     "name": "stderr",
     "output_type": "stream",
     "text": [
      "WARNING: All log messages before absl::InitializeLog() is called are written to STDERR\n",
      "I0000 00:00:1714329542.894727      90 device_compiler.h:186] Compiled cluster using XLA!  This line is logged at most once for the lifetime of the process.\n"
     ]
    },
    {
     "name": "stdout",
     "output_type": "stream",
     "text": [
      "7097/7097 [==============================] - 766s 107ms/step - loss: 5.5425 - accuracy: 0.1173\n",
      "Epoch 2/20\n",
      "7097/7097 [==============================] - 663s 93ms/step - loss: 4.4845 - accuracy: 0.2178\n",
      "Epoch 3/20\n",
      "7097/7097 [==============================] - 656s 92ms/step - loss: 3.8861 - accuracy: 0.2863\n",
      "Epoch 4/20\n",
      "7097/7097 [==============================] - 655s 92ms/step - loss: 3.4597 - accuracy: 0.3407\n",
      "Epoch 5/20\n",
      "7097/7097 [==============================] - 659s 93ms/step - loss: 3.1412 - accuracy: 0.3831\n",
      "Epoch 6/20\n",
      "7097/7097 [==============================] - 661s 93ms/step - loss: 2.8966 - accuracy: 0.4175\n",
      "Epoch 7/20\n",
      "7097/7097 [==============================] - 664s 94ms/step - loss: 2.7075 - accuracy: 0.4432\n",
      "Epoch 8/20\n",
      "7097/7097 [==============================] - 669s 94ms/step - loss: 2.5588 - accuracy: 0.4649\n",
      "Epoch 9/20\n",
      "7097/7097 [==============================] - 671s 95ms/step - loss: 2.4398 - accuracy: 0.4817\n",
      "Epoch 10/20\n",
      "7097/7097 [==============================] - 671s 95ms/step - loss: 2.3432 - accuracy: 0.4963\n",
      "Epoch 11/20\n",
      "7097/7097 [==============================] - 670s 94ms/step - loss: 2.2621 - accuracy: 0.5080\n",
      "Epoch 12/20\n",
      "7097/7097 [==============================] - 670s 94ms/step - loss: 2.1935 - accuracy: 0.5177\n",
      "Epoch 13/20\n",
      "7097/7097 [==============================] - 671s 95ms/step - loss: 2.1383 - accuracy: 0.5261\n",
      "Epoch 14/20\n",
      "7097/7097 [==============================] - 670s 94ms/step - loss: 2.0910 - accuracy: 0.5348\n",
      "Epoch 15/20\n",
      "7097/7097 [==============================] - 670s 94ms/step - loss: 2.0517 - accuracy: 0.5394\n",
      "Epoch 16/20\n",
      "7097/7097 [==============================] - 670s 94ms/step - loss: 2.0262 - accuracy: 0.5437\n",
      "Epoch 17/20\n",
      "7097/7097 [==============================] - 670s 94ms/step - loss: 2.0001 - accuracy: 0.5473\n",
      "Epoch 18/20\n",
      "7097/7097 [==============================] - 670s 94ms/step - loss: 1.9803 - accuracy: 0.5507\n",
      "Epoch 19/20\n",
      "7097/7097 [==============================] - 672s 95ms/step - loss: 1.9652 - accuracy: 0.5521\n",
      "Epoch 20/20\n",
      "7097/7097 [==============================] - 670s 94ms/step - loss: 1.9572 - accuracy: 0.5524\n"
     ]
    }
   ],
   "source": [
    "history = model.fit(X, y, epochs=20, verbose=1, callbacks=[earlystop])"
   ]
  },
  {
   "cell_type": "code",
   "execution_count": 16,
   "id": "a610ba30",
   "metadata": {
    "_cell_guid": "7b9b18e8-6c3a-45c6-9bdf-468910b71283",
    "_uuid": "c8fc7cb3-1615-452c-bf5e-4e9cc11c3cb3",
    "collapsed": false,
    "execution": {
     "iopub.execute_input": "2024-04-28T22:23:47.114182Z",
     "iopub.status.busy": "2024-04-28T22:23:47.113302Z",
     "iopub.status.idle": "2024-04-28T22:23:47.393133Z",
     "shell.execute_reply": "2024-04-28T22:23:47.392215Z"
    },
    "jupyter": {
     "outputs_hidden": false
    },
    "papermill": {
     "duration": 12.187573,
     "end_time": "2024-04-28T22:23:47.395091",
     "exception": false,
     "start_time": "2024-04-28T22:23:35.207518",
     "status": "completed"
    },
    "tags": []
   },
   "outputs": [
    {
     "data": {
      "image/png": "[encoded data removed]",
      "text/plain": [
       "<Figure size 640x480 with 1 Axes>"
      ]
     },
     "metadata": {},
     "output_type": "display_data"
    },
    {
     "data": {
      "text/plain": [
       "<Figure size 640x480 with 0 Axes>"
      ]
     },
     "metadata": {},
     "output_type": "display_data"
    }
   ],
   "source": [
    "plt.plot(history.history['accuracy'], label='train acc')\n",
    "plt.legend()\n",
    "plt.show()\n",
    "plt.savefig('AccVal_acc')"
   ]
  },
  {
   "cell_type": "code",
   "execution_count": 17,
   "id": "0b3e5962",
   "metadata": {
    "_cell_guid": "eb57d607-d4b5-423b-8131-46380b1da216",
    "_uuid": "4f54eb77-9493-468f-bc5d-4caa3ddc8ebf",
    "collapsed": false,
    "execution": {
     "iopub.execute_input": "2024-04-28T22:24:11.116623Z",
     "iopub.status.busy": "2024-04-28T22:24:11.116267Z",
     "iopub.status.idle": "2024-04-28T22:24:11.123162Z",
     "shell.execute_reply": "2024-04-28T22:24:11.122281Z"
    },
    "jupyter": {
     "outputs_hidden": false
    },
    "papermill": {
     "duration": 11.862052,
     "end_time": "2024-04-28T22:24:11.125217",
     "exception": false,
     "start_time": "2024-04-28T22:23:59.263165",
     "status": "completed"
    },
    "tags": []
   },
   "outputs": [],
   "source": [
    "def complete_this_song(seed_text, next_words):\n",
    "    for _ in range(next_words):\n",
    "        # Tokenize the seed text\n",
    "        token_list = tokenizer.texts_to_sequences([seed_text])[0]\n",
    "        token_list = pad_sequences([token_list], maxlen=max_sequence_len-1, padding='pre')\n",
    "        \n",
    "        # Predict the next word probabilities\n",
    "        predicted_probs = model.predict(token_list, verbose=0)\n",
    "        \n",
    "        # Get the index of the word with the highest probability\n",
    "        predicted_index = np.argmax(predicted_probs)\n",
    "        \n",
    "        # Get the predicted word\n",
    "        output_word = \"\"\n",
    "        for word, index in tokenizer.word_index.items():\n",
    "            if index == predicted_index:\n",
    "                output_word = word\n",
    "                break\n",
    "        \n",
    "        # Update seed text for the next iteration\n",
    "        seed_text += \" \" + output_word\n",
    "    \n",
    "    return seed_text"
   ]
  },
  {
   "cell_type": "code",
   "execution_count": 18,
   "id": "a4531842",
   "metadata": {
    "_cell_guid": "c2997425-6aa8-4873-b6cf-3e2e2ac2a900",
    "_uuid": "fb510421-1794-4c16-ae4f-c0df2cd408ea",
    "collapsed": false,
    "execution": {
     "iopub.execute_input": "2024-04-28T22:24:34.986427Z",
     "iopub.status.busy": "2024-04-28T22:24:34.985521Z",
     "iopub.status.idle": "2024-04-28T22:24:38.214083Z",
     "shell.execute_reply": "2024-04-28T22:24:38.213131Z"
    },
    "jupyter": {
     "outputs_hidden": false
    },
    "papermill": {
     "duration": 15.289972,
     "end_time": "2024-04-28T22:24:38.216103",
     "exception": false,
     "start_time": "2024-04-28T22:24:22.926131",
     "status": "completed"
    },
    "tags": []
   },
   "outputs": [
    {
     "data": {
      "text/plain": [
       "'sunrise on a mountain on a park in the middle of the night in the rain i m in the room i m out of the room i m out of the time i'"
      ]
     },
     "execution_count": 18,
     "metadata": {},
     "output_type": "execute_result"
    }
   ],
   "source": [
    "complete_this_song(\"sunrise on a mountain\", 30)"
   ]
  },
  {
   "cell_type": "code",
   "execution_count": 19,
   "id": "3bdcc960",
   "metadata": {
    "execution": {
     "iopub.execute_input": "2024-04-28T22:25:01.971430Z",
     "iopub.status.busy": "2024-04-28T22:25:01.971043Z",
     "iopub.status.idle": "2024-04-28T22:25:02.080044Z",
     "shell.execute_reply": "2024-04-28T22:25:02.079120Z"
    },
    "papermill": {
     "duration": 12.008348,
     "end_time": "2024-04-28T22:25:02.082214",
     "exception": false,
     "start_time": "2024-04-28T22:24:50.073866",
     "status": "completed"
    },
    "tags": []
   },
   "outputs": [
    {
     "name": "stderr",
     "output_type": "stream",
     "text": [
      "/opt/conda/lib/python3.10/site-packages/keras/src/engine/training.py:3103: UserWarning: You are saving your model as an HDF5 file via `model.save()`. This file format is considered legacy. We recommend using instead the native Keras format, e.g. `model.save('my_model.keras')`.\n",
      "  saving_api.save_model(\n"
     ]
    }
   ],
   "source": [
    "from tensorflow.keras.models import load_model\n",
    "model.save('model2.h5')"
   ]
  },
  {
   "cell_type": "code",
   "execution_count": 20,
   "id": "f18c42b5",
   "metadata": {
    "_cell_guid": "e2c17c56-c36c-49c3-a865-1bbaf7439757",
    "_uuid": "80045e17-4776-43b8-8a2d-27cc982533c9",
    "collapsed": false,
    "execution": {
     "iopub.execute_input": "2024-04-28T22:25:25.971758Z",
     "iopub.status.busy": "2024-04-28T22:25:25.971365Z",
     "iopub.status.idle": "2024-04-28T22:25:26.684891Z",
     "shell.execute_reply": "2024-04-28T22:25:26.684084Z"
    },
    "jupyter": {
     "outputs_hidden": false
    },
    "papermill": {
     "duration": 12.66588,
     "end_time": "2024-04-28T22:25:26.687264",
     "exception": false,
     "start_time": "2024-04-28T22:25:14.021384",
     "status": "completed"
    },
    "tags": []
   },
   "outputs": [],
   "source": [
    "model = load_model('/kaggle/working/model2.h5')"
   ]
  },
  {
   "cell_type": "code",
   "execution_count": null,
   "id": "998b8253",
   "metadata": {
    "_cell_guid": "b2c45e16-eac4-47ca-ac38-49723074e257",
    "_uuid": "099a6102-e2fb-47c0-ae63-2e9c8464d4f9",
    "collapsed": false,
    "jupyter": {
     "outputs_hidden": false
    },
    "papermill": {
     "duration": 11.849195,
     "end_time": "2024-04-28T22:25:50.431365",
     "exception": false,
     "start_time": "2024-04-28T22:25:38.582170",
     "status": "completed"
    },
    "tags": []
   },
   "outputs": [],
   "source": []
  }
 ],
 "metadata": {
  "kaggle": {
   "accelerator": "nvidiaTeslaT4",
   "dataSources": [
    {
     "datasetId": 4896882,
     "sourceId": 8252550,
     "sourceType": "datasetVersion"
    }
   ],
   "dockerImageVersionId": 30699,
   "isGpuEnabled": true,
   "isInternetEnabled": true,
   "language": "python",
   "sourceType": "notebook"
  },
  "kernelspec": {
   "display_name": "Python 3",
   "language": "python",
   "name": "python3"
  },
  "language_info": {
   "codemirror_mode": {
    "name": "ipython",
    "version": 3
   },
   "file_extension": ".py",
   "mimetype": "text/x-python",
   "name": "python",
   "nbconvert_exporter": "python",
   "pygments_lexer": "ipython3",
   "version": "3.10.13"
  },
  "papermill": {
   "default_parameters": {},
   "duration": 13722.322011,
   "end_time": "2024-04-28T22:26:05.270774",
   "environment_variables": {},
   "exception": null,
   "input_path": "__notebook__.ipynb",
   "output_path": "__notebook__.ipynb",
   "parameters": {},
   "start_time": "2024-04-28T18:37:22.948763",
   "version": "2.5.0"
  }
 },
 "nbformat": 4,
 "nbformat_minor": 5
}
